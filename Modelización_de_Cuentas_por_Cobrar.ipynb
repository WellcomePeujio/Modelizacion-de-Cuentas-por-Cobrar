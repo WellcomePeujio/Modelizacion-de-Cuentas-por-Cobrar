{
  "nbformat": 4,
  "nbformat_minor": 0,
  "metadata": {
    "colab": {
      "private_outputs": true,
      "provenance": [],
      "authorship_tag": "ABX9TyMbxADbwwEmM8uf1HbsAJkg",
      "include_colab_link": true
    },
    "kernelspec": {
      "name": "python3",
      "display_name": "Python 3"
    },
    "language_info": {
      "name": "python"
    }
  },
  "cells": [
    {
      "cell_type": "markdown",
      "metadata": {
        "id": "view-in-github",
        "colab_type": "text"
      },
      "source": [
        "<a href=\"https://colab.research.google.com/github/WellcomePeujio/Modelizacion-de-Cuentas-por-Cobrar/blob/main/Modelizaci%C3%B3n_de_Cuentas_por_Cobrar.ipynb\" target=\"_parent\"><img src=\"https://colab.research.google.com/assets/colab-badge.svg\" alt=\"Open In Colab\"/></a>"
      ]
    },
    {
      "cell_type": "markdown",
      "source": [
        "# Modelización de Cuentas por Cobrar (Series y Progresiones)\n",
        "\n",
        "## Problema\n",
        "\n",
        "Una empresa tiene cuentas por cobrar que se acumulan mensualmente en una progresión aritmética. El valor del primer mes es de 5,000 dólares, y cada mes aumenta en 500 dólares.\n",
        "\n",
        "La fórmula de la progresión aritmética para el valor de las cuentas por cobrar en el mes \\$(n\\$) es:\n",
        "\n",
        "$$\n",
        "a_n = a_1 + (n-1) \\cdot d\n",
        "$$\n",
        "\n",
        "Donde:\n",
        "- \\$(a_1 = 5,000\\$) es el valor inicial en el primer mes,\n",
        "- \\$(d = 500\\$) es la diferencia común entre los términos,\n",
        "- \\$(n\\$) es el número de meses.\n",
        "\n",
        "## Preguntas:\n",
        "\n",
        "1. **¿Cuánto se cobrará en el sexto mes?**\n",
        "2. **Modela la suma de las cuentas por cobrar después de 12 meses.**\n",
        "3. **¿Cuál será el total acumulado de las cuentas por cobrar al final del año (después de 12 meses)?**\n",
        "\n",
        "\n"
      ],
      "metadata": {
        "id": "ulWZkuZAU4TT"
      }
    },
    {
      "cell_type": "markdown",
      "source": [
        "# Resolución Matemática: Modelización de Cuentas por Cobrar (Series y Progresiones)\n",
        "\n",
        "## Datos del Problema\n",
        "\n",
        "- El valor inicial del primer mes es \\$( a_1 = 5,000 \\$).\n",
        "- La diferencia común entre los términos es \\$( d = 500 \\$).\n",
        "- Queremos calcular el valor de las cuentas por cobrar después de 12 meses, modelado como una progresión aritmética.\n",
        "\n",
        "### 1. Cálculo del valor en el sexto mes\n",
        "\n",
        "La fórmula general para el valor en el mes \\$(n\\$) de una progresión aritmética es:\n",
        "\n",
        "$$\n",
        "a_n = a_1 + (n - 1) \\cdot d\n",
        "$$\n",
        "\n",
        "Para el sexto mes (\\(n = 6\\)):\n",
        "\n",
        "$$\n",
        "a_6 = 5,000 + (6 - 1) \\cdot 500\n",
        "$$\n",
        "\n",
        "Realizando los cálculos:\n",
        "\n",
        "$$\n",
        "a_6 = 5,000 + 5 \\cdot 500 = 5,000 + 2,500 = 7,500 \\, \\text{dólares}\n",
        "$$\n",
        "\n",
        "Por lo tanto, el valor de las cuentas por cobrar en el sexto mes es **\\$7,500**.\n",
        "\n",
        "### 2. Modelar la suma de las cuentas por cobrar después de 12 meses\n",
        "\n",
        "La suma de los primeros \\(n\\) términos de una progresión aritmética se calcula con la fórmula:\n",
        "\n",
        "$$\n",
        "S_n = \\frac{n}{2} \\cdot (a_1 + a_n)\n",
        "$$\n",
        "\n",
        "Donde:\n",
        "- \\$(n = 12\\$) es el número de meses,\n",
        "- \\$(a_1 = 5,000\\$) es el valor del primer mes,\n",
        "- \\$(a_{12}\\$) es el valor en el mes 12.\n",
        "\n",
        "Primero, calculamos el valor en el mes 12 utilizando la fórmula para \\$(a_n\\$):\n",
        "\n",
        "$$\n",
        "a_{12} = 5,000 + (12 - 1) \\cdot 500 = 5,000 + 11 \\cdot 500 = 5,000 + 5,500 = 10,500 \\, \\text{dólares}\n",
        "$$\n",
        "\n",
        "Ahora, usamos la fórmula de la suma:\n",
        "\n",
        "$$\n",
        "S_{12} = \\frac{12}{2} \\cdot (5,000 + 10,500) = 6 \\cdot 15,500 = 93,000 \\, \\text{dólares}\n",
        "$$\n",
        "\n",
        "Por lo tanto, la suma total de las cuentas por cobrar después de 12 meses es **\\$93,000**.\n",
        "\n",
        "### 3. Cálculo del total acumulado al final del año\n",
        "\n",
        "El total acumulado de las cuentas por cobrar al final del año es simplemente la suma calculada anteriormente:\n",
        "\n",
        "$$\n",
        "\\text{Total acumulado} = S_{12} = 93,000 \\, \\text{dólares}\n",
        "$$\n",
        "\n",
        "---\n",
        "\n",
        "### Resumen:\n",
        "\n",
        "1. El valor de las cuentas por cobrar en el sexto mes es **\\$7,500**.\n",
        "2. La suma total de las cuentas por cobrar después de 12 meses es **\\$93,000**.\n",
        "\n",
        "---\n"
      ],
      "metadata": {
        "id": "QWPRuzVXaQPi"
      }
    },
    {
      "cell_type": "code",
      "source": [
        "import numpy as np\n",
        "import matplotlib.pyplot as plt\n",
        "\n",
        "# Datos del problema\n",
        "a1 = 5000  # Valor del primer mes\n",
        "d = 500    # Diferencia común\n",
        "n = 12     # Número de meses\n",
        "\n",
        "# 1. Cálculo del valor en el sexto mes\n",
        "n6 = 6\n",
        "a6 = a1 + (n6 - 1) * d\n",
        "print(f\"El valor de las cuentas por cobrar en el sexto mes es: ${a6:.2f}\")\n",
        "\n",
        "# 2. Cálculo del valor en el duodécimo mes\n",
        "a12 = a1 + (12 - 1) * d\n",
        "print(f\"El valor de las cuentas por cobrar en el duodécimo mes es: ${a12:.2f}\")\n",
        "\n",
        "# 3. Cálculo de la suma total después de 12 meses\n",
        "S12 = (n / 2) * (a1 + a12)\n",
        "print(f\"La suma total de las cuentas por cobrar después de 12 meses es: ${S12:.2f}\")\n",
        "\n",
        "# 4. Crear una lista con los valores de cada mes\n",
        "meses = np.arange(1, n + 1)\n",
        "valores_cuentas = a1 + (meses - 1) * d\n",
        "\n",
        "# 5. Graficar la evolución de las cuentas por cobrar\n",
        "plt.figure(figsize=(10, 6))\n",
        "plt.plot(meses, valores_cuentas, marker='o', color='green', label=\"Cuentas por cobrar\")\n",
        "plt.title('Evolución de las Cuentas por Cobrar a lo Largo de 12 Meses')\n",
        "plt.xlabel('Meses')\n",
        "plt.ylabel('Cuentas por Cobrar ($)')\n",
        "plt.grid(True)\n",
        "plt.legend()\n",
        "plt.show()"
      ],
      "metadata": {
        "id": "yh5uZklOa9kP"
      },
      "execution_count": null,
      "outputs": []
    }
  ]
}